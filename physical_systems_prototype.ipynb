{
 "cells": [
  {
   "cell_type": "code",
   "execution_count": 80,
   "metadata": {},
   "outputs": [],
   "source": [
    "import abc\n",
    "from abc import abstractmethod\n",
    "from typing import Callable, Dict, Tuple, Optional, List\n",
    "import itertools\n",
    "import functools\n",
    "\n",
    "import numpy as np\n",
    "import scipy as sp\n",
    "import einops\n",
    "import quimb.tensor as qtn\n",
    "import quimb.experimental.operatorbuilder as quimb_exp_op\n",
    "from ml_collections import config_dict\n",
    "import matplotlib.pyplot as plt\n",
    "\n",
    "from tn_generative import *"
   ]
  },
  {
   "cell_type": "code",
   "execution_count": null,
   "metadata": {},
   "outputs": [],
   "source": []
  },
  {
   "attachments": {},
   "cell_type": "markdown",
   "metadata": {},
   "source": [
    "# Physical Systems\n",
    "\n",
    "- Modules for setting up physical systems"
   ]
  },
  {
   "cell_type": "code",
   "execution_count": 96,
   "metadata": {},
   "outputs": [],
   "source": [
    "#@title || Define physical system.\n",
    "\n",
    "class PhysicalSystem(abc.ABC):\n",
    "  \"\"\"Abstract class for defining physical systems.\"\"\"\n",
    "\n",
    "  @property\n",
    "  def n_sites(self) -> int:\n",
    "    \"\"\"Returns number of sites.\"\"\"\n",
    "    return self._n_sites\n",
    "  \n",
    "  @abstractmethod\n",
    "  def get_terms(self) -> List[Tuple[float, Tuple[str, int]]]:\n",
    "    \"\"\"Returns list of terms in the Hamiltonian.\"\"\"\n",
    "    return None\n",
    "\n",
    "  @abstractmethod\n",
    "  def get_ham_mpo(self) -> qtn.MatrixProductOperator:\n",
    "    \"\"\"Returns Hamiltonian MPO.\"\"\"\n",
    "    pass\n",
    "\n",
    "  @abstractmethod\n",
    "  def get_obs_mpos(self) -> List[qtn.MatrixProductOperator]:\n",
    "    \"\"\"Returns MPOs for observables.\"\"\"\n",
    "    pass\n",
    "\n",
    "class SurfaceCode(PhysicalSystem):\n",
    "  \"\"\"Implementation for surface code.\n",
    "    Note: this constructor assumes default ferromagnetic coupling. i.e.\n",
    "    `coupling_value == 1` corresponds to `H = -1 * (Σ A) ...`. \n",
    "    Note: `get_terms` method in this constructor assumes +1 coupling. \n",
    "  \"\"\"\n",
    "\n",
    "  def __init__(self, \n",
    "      Lx: int, \n",
    "      Ly: int, \n",
    "      coupling_value: float = 1.0,\n",
    "      onsite_z_field: float = 0.,\n",
    "  ):\n",
    "    self._n_sites = int(Lx * Ly)\n",
    "    self.Lx = Lx\n",
    "    self.Ly = Ly\n",
    "    self.coupling_value = coupling_value\n",
    "    self.onsite_z_field = onsite_z_field\n",
    "    self.hilbert_space = quimb_exp_op.HilbertSpace(self.n_sites)\n",
    "    \n",
    "  def _get_surface_code_collections(self):\n",
    "    \"\"\"Constructs `NodeCollection`s for all terms in surface code Hamiltonian.\n",
    "    \"\"\"\n",
    "    if self.Lx % 2 != 1 or self.Ly % 2 !=1:\n",
    "      raise NotImplementedError('Only odd system sizes are implemented.')\n",
    "    a1 = np.array([1.0, 0.0])  # unit vectors for square lattice.\n",
    "    a2 = np.array([0.0, 1.0])\n",
    "    unit_cell_points = np.stack([np.array([0, 0])])\n",
    "    unit_cell = lattices.Lattice(unit_cell_points)\n",
    "\n",
    "    lattice = sum(\n",
    "        [unit_cell.shift(a1 * i + a2 * j)\n",
    "        for i, j in itertools.product(range(self.Lx), range(self.Ly))]\n",
    "    )\n",
    "    # generating terms with Z plaquetts at the top left corner.\n",
    "    z_top_loc = np.array((0, self.Ly - 1))\n",
    "    z_base_plaquette = node_collections.build_path_from_sequence(\n",
    "        lattice.get_idx(\n",
    "            np.stack(  # specify plaquet going right, down, right and back up.\n",
    "                [z_top_loc, z_top_loc + a1, z_top_loc + a1 - a2, z_top_loc - a2])\n",
    "            ),\n",
    "        lattice\n",
    "    )\n",
    "    # fixing boundary terms with x-x interactions \n",
    "    # for Z plaquetts on the boundary.\n",
    "    x_top_boundary = node_collections.build_path_from_sequence(\n",
    "        lattice.get_idx(np.stack([z_top_loc, z_top_loc + a1])), lattice\n",
    "    )\n",
    "    x_bot_boundary = x_top_boundary.shift(-a2 * (self.Ly - 1) + a1)\n",
    "\n",
    "    # generating terms with X plaquetts at the second square \n",
    "    # from top left corner.\n",
    "    x_top_loc = z_top_loc + a1\n",
    "    x_base_plaquette = node_collections.build_path_from_sequence(\n",
    "        lattice.get_idx(\n",
    "            np.stack(\n",
    "                [x_top_loc, x_top_loc + a1, x_top_loc + a1 - a2, x_top_loc - a2])\n",
    "            ),\n",
    "        lattice\n",
    "    )\n",
    "    # fixing boundary terms with z-z interactions for X plaquetts on the boundary.\n",
    "    z_left_boundary = node_collections.build_path_from_sequence(\n",
    "        lattice.get_idx(np.stack([z_top_loc - a2, z_top_loc - 2 * a2])), lattice\n",
    "    )\n",
    "    z_right_boundary = z_left_boundary.shift(a1 * (self.Lx - 1) + a2)\n",
    "\n",
    "    n_shifts = max(self.Lx, self.Ly)\n",
    "    z_plaquettes = node_collections.tile_on_lattice(\n",
    "        z_base_plaquette, 2 * a1, a1 + a2, n_shifts\n",
    "    )\n",
    "    x_plaquettes = node_collections.tile_on_lattice(\n",
    "        x_base_plaquette, 2 * a1, a1 + a2, n_shifts\n",
    "    )\n",
    "    x_boundaries = (\n",
    "        node_collections.tile_on_lattice(\n",
    "            x_top_boundary, 2 * a1, 0 * a2, n_shifts) +\n",
    "        node_collections.tile_on_lattice(\n",
    "            x_bot_boundary, 2 * a1, 0 * a2, n_shifts)\n",
    "    )\n",
    "    z_boundaries = (\n",
    "        node_collections.tile_on_lattice(\n",
    "            z_left_boundary, 0 * a1, 2 * a2, n_shifts) +\n",
    "        node_collections.tile_on_lattice(\n",
    "            z_right_boundary, 0 * a1, 2 * a2, n_shifts)\n",
    "    )\n",
    "    return z_plaquettes, x_plaquettes, z_boundaries, x_boundaries\n",
    "\n",
    "  def get_terms(self,\n",
    "  ) -> List[Tuple[float, Tuple[str, int]]]:\n",
    "    \"\"\"Generates all stabilizer terms in the surface code \n",
    "    from 4-plaquettes and 2-site boundaries.\n",
    "\n",
    "    z_plaquettes: collection of 4-sites forming σz plaquettes.\n",
    "    x_plaquettes: collection of 4-sites forming σx plaquettes.\n",
    "    x_boundaries: collection of 2 boundary sites on Z plaquettes with x-x term.\n",
    "    z_boundaries: collection of 2 boundary sites on X vertices with z-z term.\n",
    "\n",
    "    Args:\n",
    "      Lx: number of sites in x direction.\n",
    "      Ly: number of sites in y direction.\n",
    "      coupling_value: coupling coefficient.\n",
    "\n",
    "    Returns:\n",
    "      List of terms `z_plaquettes, x_plaquettes, z_boundaries, x_boundaries`\n",
    "      representing the surface code hamiltonian.\n",
    "    \"\"\"\n",
    "    z_plaquettes, x_plaquettes, z_boundaries, x_boundaries = (\n",
    "        self._get_surface_code_collections()\n",
    "    )\n",
    "    # extract edges specified by lattice sites for each interaction term.\n",
    "    z_plaquett_edges = node_collections.extract_edge_sequence(z_plaquettes)\n",
    "    x_plaquett_edges = node_collections.extract_edge_sequence(x_plaquettes)\n",
    "    xx_boundary_edges = node_collections.extract_edge_sequence(x_boundaries)\n",
    "    zz_boundary_edges = node_collections.extract_edge_sequence(z_boundaries)\n",
    "    # get sites for each interaction term by selecting sites.\n",
    "    z_plaquett_sites = np.unique(\n",
    "        einops.rearrange(z_plaquett_edges, 'b i s -> b (i s)'), axis=-1)\n",
    "    x_plaquett_sites = np.unique(\n",
    "        einops.rearrange(x_plaquett_edges, 'b i s -> b (i s)'), axis=-1)\n",
    "    z_boundary_sites = np.unique(\n",
    "        einops.rearrange(zz_boundary_edges, 'b i s -> b (i s)'), axis=-1)\n",
    "    x_boundary_sites = np.unique(\n",
    "        einops.rearrange(xx_boundary_edges, 'b i s -> b (i s)'), axis=-1)\n",
    "    all_terms = []\n",
    "    for i, j, k, l in z_plaquett_sites:\n",
    "      terms = -self.coupling_value, (\"z\", i), (\"z\", j), (\"z\", k), (\"z\", l)\n",
    "      all_terms.append(terms)\n",
    "    for i, j, k, l in x_plaquett_sites:\n",
    "      terms = -self.coupling_value, (\"x\", i), (\"x\", j), (\"x\", k), (\"x\", l)\n",
    "      all_terms.append(terms)\n",
    "    for i, j in z_boundary_sites:\n",
    "      terms = -self.coupling_value, (\"z\", i), (\"z\", j)\n",
    "      all_terms.append(terms)\n",
    "    for i, j in x_boundary_sites:\n",
    "      terms = -self.coupling_value, (\"x\", i), (\"x\", j)\n",
    "      all_terms.append(terms)\n",
    "    if self.onsite_z_field != 0.:  # add onsite fields if specified.\n",
    "      for site in range(self.Lx * self.Ly):\n",
    "        all_terms.append((-self.onsite_z_field, (\"z\", site)))\n",
    "    return all_terms\n",
    "\n",
    "  def _get_surface_code_hamiltonian_builder(self\n",
    "  ) -> quimb_exp_op.SparseOperatorBuilder:\n",
    "    \"\"\"Generates surface code hamiltonian operator builder.\"\"\"\n",
    "    surface_code_H = quimb_exp_op.SparseOperatorBuilder(\n",
    "        hilbert_space=self.hilbert_space\n",
    "    )\n",
    "    terms = self.get_terms()\n",
    "    for term in terms:  # add all stabilizers to the hamiltonian.\n",
    "      surface_code_H += term\n",
    "    return surface_code_H\n",
    "  \n",
    "  def get_ham_mpo(self,\n",
    "  ) -> qtn.MatrixProductOperator:\n",
    "    \"\"\"Get surface code hamiltonian as MPO.\"\"\"\n",
    "    surface_code_H = self._get_surface_code_hamiltonian_builder()\n",
    "    return surface_code_H.build_mpo()\n",
    "\n",
    "  def get_obs_mpos(self, \n",
    "      terms: Optional[List[Tuple[float, Tuple[str, int]]]] = None,\n",
    "  ) ->  List[qtn.MatrixProductOperator]:\n",
    "    \"\"\"Get observables `terms` as MPOs.\n",
    "    \n",
    "    Args:\n",
    "      terms: list of terms to include in the MPOs. Default (None) is to include\n",
    "        all stabilizer terms in the surface code.\n",
    "    \n",
    "    Returns:\n",
    "      List of MPOs.\n",
    "    \"\"\"\n",
    "    hilbert_space = self.hilbert_space\n",
    "    mpos = []\n",
    "    if terms is None:\n",
    "      # default: get all stabilizer terms in the surface code.\n",
    "      terms = self.get_terms()\n",
    "    for term in terms:\n",
    "      _, *sites = term\n",
    "      mpos.append(\n",
    "          quimb_exp_op.SparseOperatorBuilder(\n",
    "              [(1., *sites)], hilbert_space=hilbert_space).build_mpo()\n",
    "      )\n",
    "    return mpos"
   ]
  },
  {
   "attachments": {},
   "cell_type": "markdown",
   "metadata": {},
   "source": [
    "# Some quick examples"
   ]
  },
  {
   "cell_type": "code",
   "execution_count": 97,
   "metadata": {},
   "outputs": [],
   "source": [
    "my_surface_code = SurfaceCode(Lx=3, Ly=3)"
   ]
  },
  {
   "cell_type": "code",
   "execution_count": 98,
   "metadata": {},
   "outputs": [
    {
     "data": {
      "text/plain": [
       "(NodesCollection(nodes=array([[2, 5, 5, 4, 4, 1, 1, 2],\n",
       "        [4, 7, 7, 6, 6, 3, 3, 4]]), lattice=Lattice(points=array([[0., 0.],\n",
       "        [0., 1.],\n",
       "        [0., 2.],\n",
       "        [1., 0.],\n",
       "        [1., 1.],\n",
       "        [1., 2.],\n",
       "        [2., 0.],\n",
       "        [2., 1.],\n",
       "        [2., 2.]]), decimal_precision=3, n_sites=9, ndim=2), count=2, length=8),\n",
       " NodesCollection(nodes=array([[1, 4, 4, 3, 3, 0, 0, 1],\n",
       "        [5, 8, 8, 7, 7, 4, 4, 5]]), lattice=Lattice(points=array([[0., 0.],\n",
       "        [0., 1.],\n",
       "        [0., 2.],\n",
       "        [1., 0.],\n",
       "        [1., 1.],\n",
       "        [1., 2.],\n",
       "        [2., 0.],\n",
       "        [2., 1.],\n",
       "        [2., 2.]]), decimal_precision=3, n_sites=9, ndim=2), count=2, length=8),\n",
       " NodesCollection(nodes=array([[1, 0, 0, 1],\n",
       "        [8, 7, 7, 8]]), lattice=Lattice(points=array([[0., 0.],\n",
       "        [0., 1.],\n",
       "        [0., 2.],\n",
       "        [1., 0.],\n",
       "        [1., 1.],\n",
       "        [1., 2.],\n",
       "        [2., 0.],\n",
       "        [2., 1.],\n",
       "        [2., 2.]]), decimal_precision=3, n_sites=9, ndim=2), count=2, length=4),\n",
       " NodesCollection(nodes=array([[2, 5, 5, 2],\n",
       "        [3, 6, 6, 3]]), lattice=Lattice(points=array([[0., 0.],\n",
       "        [0., 1.],\n",
       "        [0., 2.],\n",
       "        [1., 0.],\n",
       "        [1., 1.],\n",
       "        [1., 2.],\n",
       "        [2., 0.],\n",
       "        [2., 1.],\n",
       "        [2., 2.]]), decimal_precision=3, n_sites=9, ndim=2), count=2, length=4))"
      ]
     },
     "execution_count": 98,
     "metadata": {},
     "output_type": "execute_result"
    }
   ],
   "source": [
    "my_surface_code._get_surface_code_collections()"
   ]
  },
  {
   "cell_type": "code",
   "execution_count": 99,
   "metadata": {},
   "outputs": [
    {
     "data": {
      "text/html": [
       "<samp><details><summary><b style=\"color: #b4d24a;\">MatrixProductOperator</b>(tensors=9, indices=26, L=9, max_bond=7)</summary><samp><details><summary><b style=\"color: #e55471;\">Tensor</b>(shape=(<b style=\"color: #8a5bcf;\">3</b>, <b style=\"color: #828fdd;\">2</b>, <b style=\"color: #828fdd;\">2</b>), inds=[<b style=\"color: #5bd65b;\">_60cd02AAHzU</b>, <b style=\"color: #b1dc61;\">k0</b>, <b style=\"color: #e06fe0;\">b0</b>], tags={<b style=\"color: #d2b137;\">I0</b>}),</summary>backend=<b style=\"color: #7fdd73;\">numpy</b>, dtype=<b style=\"color: #75d2c6;\">float64</b>, data=array([[[ 1.,  0.],\n",
       "        [ 0.,  1.]],\n",
       "\n",
       "       [[ 0., -1.],\n",
       "        [-1.,  0.]],\n",
       "\n",
       "       [[-1.,  0.],\n",
       "        [ 0.,  1.]]])</details></samp><samp><details><summary><b style=\"color: #e55471;\">Tensor</b>(shape=(<b style=\"color: #8a5bcf;\">3</b>, <b style=\"color: #80d749;\">4</b>, <b style=\"color: #828fdd;\">2</b>, <b style=\"color: #828fdd;\">2</b>), inds=[<b style=\"color: #5bd65b;\">_60cd02AAHzU</b>, <b style=\"color: #7538de;\">_60cd02AAHzV</b>, <b style=\"color: #8aa5db;\">k1</b>, <b style=\"color: #c757cc;\">b1</b>], tags={<b style=\"color: #d19b78;\">I1</b>}),</summary>backend=<b style=\"color: #7fdd73;\">numpy</b>, dtype=<b style=\"color: #75d2c6;\">float64</b>, data=array([[[[-1., -0.],\n",
       "         [-0.,  1.]],\n",
       "\n",
       "        [[ 1.,  0.],\n",
       "         [ 0.,  1.]],\n",
       "\n",
       "        [[ 0.,  0.],\n",
       "         [ 0.,  0.]],\n",
       "\n",
       "        [[ 0.,  0.],\n",
       "         [ 0.,  0.]]],\n",
       "\n",
       "\n",
       "       [[[ 0.,  0.],\n",
       "         [ 0.,  0.]],\n",
       "\n",
       "        [[ 0.,  0.],\n",
       "         [ 0.,  0.]],\n",
       "\n",
       "        [[ 0.,  1.],\n",
       "         [ 1.,  0.]],\n",
       "\n",
       "        [[ 0.,  0.],\n",
       "         [ 0.,  0.]]],\n",
       "\n",
       "\n",
       "       [[[ 0.,  0.],\n",
       "         [ 0.,  0.]],\n",
       "\n",
       "        [[ 0.,  0.],\n",
       "         [ 0.,  0.]],\n",
       "\n",
       "        [[ 0.,  0.],\n",
       "         [ 0.,  0.]],\n",
       "\n",
       "        [[ 1.,  0.],\n",
       "         [ 0., -1.]]]])</details></samp><samp><details><summary><b style=\"color: #e55471;\">Tensor</b>(shape=(<b style=\"color: #80d749;\">4</b>, <b style=\"color: #7355d7;\">5</b>, <b style=\"color: #828fdd;\">2</b>, <b style=\"color: #828fdd;\">2</b>), inds=[<b style=\"color: #7538de;\">_60cd02AAHzV</b>, <b style=\"color: #d69731;\">_60cd02AAHzW</b>, <b style=\"color: #df546d;\">k2</b>, <b style=\"color: #50e1e1;\">b2</b>], tags={<b style=\"color: #dd5dd7;\">I2</b>}),</summary>backend=<b style=\"color: #7fdd73;\">numpy</b>, dtype=<b style=\"color: #75d2c6;\">float64</b>, data=array([[[[ 1.,  0.],\n",
       "         [ 0., -1.]],\n",
       "\n",
       "        [[ 0.,  0.],\n",
       "         [ 0.,  0.]],\n",
       "\n",
       "        [[ 0.,  0.],\n",
       "         [ 0.,  0.]],\n",
       "\n",
       "        [[ 0.,  0.],\n",
       "         [ 0.,  0.]],\n",
       "\n",
       "        [[ 0.,  0.],\n",
       "         [ 0.,  0.]]],\n",
       "\n",
       "\n",
       "       [[[ 0.,  0.],\n",
       "         [ 0.,  0.]],\n",
       "\n",
       "        [[ 1.,  0.],\n",
       "         [ 0.,  1.]],\n",
       "\n",
       "        [[ 0.,  0.],\n",
       "         [ 0.,  0.]],\n",
       "\n",
       "        [[ 0.,  0.],\n",
       "         [ 0.,  0.]],\n",
       "\n",
       "        [[-0., -1.],\n",
       "         [-1., -0.]]],\n",
       "\n",
       "\n",
       "       [[[ 0.,  0.],\n",
       "         [ 0.,  0.]],\n",
       "\n",
       "        [[ 0.,  0.],\n",
       "         [ 0.,  0.]],\n",
       "\n",
       "        [[ 1.,  0.],\n",
       "         [ 0.,  1.]],\n",
       "\n",
       "        [[ 0.,  0.],\n",
       "         [ 0.,  0.]],\n",
       "\n",
       "        [[ 0.,  0.],\n",
       "         [ 0.,  0.]]],\n",
       "\n",
       "\n",
       "       [[[ 0.,  0.],\n",
       "         [ 0.,  0.]],\n",
       "\n",
       "        [[ 0.,  0.],\n",
       "         [ 0.,  0.]],\n",
       "\n",
       "        [[ 0.,  0.],\n",
       "         [ 0.,  0.]],\n",
       "\n",
       "        [[ 1.,  0.],\n",
       "         [ 0.,  1.]],\n",
       "\n",
       "        [[ 0.,  0.],\n",
       "         [ 0.,  0.]]]])</details></samp><samp><details><summary><b style=\"color: #e55471;\">Tensor</b>(shape=(<b style=\"color: #7355d7;\">5</b>, <b style=\"color: #7930d2;\">7</b>, <b style=\"color: #828fdd;\">2</b>, <b style=\"color: #828fdd;\">2</b>), inds=[<b style=\"color: #d69731;\">_60cd02AAHzW</b>, <b style=\"color: #c890d9;\">_60cd02AAHzX</b>, <b style=\"color: #4c7be1;\">k3</b>, <b style=\"color: #e48733;\">b3</b>], tags={<b style=\"color: #dd65d9;\">I3</b>}),</summary>backend=<b style=\"color: #7fdd73;\">numpy</b>, dtype=<b style=\"color: #75d2c6;\">float64</b>, data=...</details></samp><samp><details><summary><b style=\"color: #e55471;\">Tensor</b>(shape=(<b style=\"color: #7930d2;\">7</b>, <b style=\"color: #7930d2;\">7</b>, <b style=\"color: #828fdd;\">2</b>, <b style=\"color: #828fdd;\">2</b>), inds=[<b style=\"color: #c890d9;\">_60cd02AAHzX</b>, <b style=\"color: #aed994;\">_60cd02AAHzY</b>, <b style=\"color: #462edc;\">k4</b>, <b style=\"color: #d85349;\">b4</b>], tags={<b style=\"color: #998ad1;\">I4</b>}),</summary>backend=<b style=\"color: #7fdd73;\">numpy</b>, dtype=<b style=\"color: #75d2c6;\">float64</b>, data=...</details></samp><samp><details><summary><b style=\"color: #e55471;\">Tensor</b>(shape=(<b style=\"color: #7930d2;\">7</b>, <b style=\"color: #7355d7;\">5</b>, <b style=\"color: #828fdd;\">2</b>, <b style=\"color: #828fdd;\">2</b>), inds=[<b style=\"color: #aed994;\">_60cd02AAHzY</b>, <b style=\"color: #947dd1;\">_60cd02AAHzZ</b>, <b style=\"color: #85dfdf;\">k5</b>, <b style=\"color: #be4ee5;\">b5</b>], tags={<b style=\"color: #97dddc;\">I5</b>}),</summary>backend=<b style=\"color: #7fdd73;\">numpy</b>, dtype=<b style=\"color: #75d2c6;\">float64</b>, data=...</details></samp><samp><details><summary><b style=\"color: #e55471;\">Tensor</b>(shape=(<b style=\"color: #7355d7;\">5</b>, <b style=\"color: #80d749;\">4</b>, <b style=\"color: #828fdd;\">2</b>, <b style=\"color: #828fdd;\">2</b>), inds=[<b style=\"color: #947dd1;\">_60cd02AAHzZ</b>, <b style=\"color: #d99e48;\">_60cd02AAHza</b>, <b style=\"color: #2cb7d3;\">k6</b>, <b style=\"color: #62e49f;\">b6</b>], tags={<b style=\"color: #b2de5f;\">I6</b>}),</summary>backend=<b style=\"color: #7fdd73;\">numpy</b>, dtype=<b style=\"color: #75d2c6;\">float64</b>, data=array([[[[ 1.,  0.],\n",
       "         [ 0.,  1.]],\n",
       "\n",
       "        [[ 0.,  0.],\n",
       "         [ 0.,  0.]],\n",
       "\n",
       "        [[ 0.,  0.],\n",
       "         [ 0.,  0.]],\n",
       "\n",
       "        [[ 0.,  0.],\n",
       "         [ 0.,  0.]]],\n",
       "\n",
       "\n",
       "       [[[ 0.,  0.],\n",
       "         [ 0.,  0.]],\n",
       "\n",
       "        [[ 1.,  0.],\n",
       "         [ 0., -1.]],\n",
       "\n",
       "        [[ 0.,  0.],\n",
       "         [ 0.,  0.]],\n",
       "\n",
       "        [[ 0.,  0.],\n",
       "         [ 0.,  0.]]],\n",
       "\n",
       "\n",
       "       [[[ 0.,  0.],\n",
       "         [ 0.,  0.]],\n",
       "\n",
       "        [[ 0.,  0.],\n",
       "         [ 0.,  0.]],\n",
       "\n",
       "        [[ 1.,  0.],\n",
       "         [ 0.,  1.]],\n",
       "\n",
       "        [[ 0.,  0.],\n",
       "         [ 0.,  0.]]],\n",
       "\n",
       "\n",
       "       [[[ 0.,  0.],\n",
       "         [ 0.,  0.]],\n",
       "\n",
       "        [[ 0.,  0.],\n",
       "         [ 0.,  0.]],\n",
       "\n",
       "        [[ 0.,  0.],\n",
       "         [ 0.,  0.]],\n",
       "\n",
       "        [[ 1.,  0.],\n",
       "         [ 0.,  1.]]],\n",
       "\n",
       "\n",
       "       [[[ 0.,  1.],\n",
       "         [ 1.,  0.]],\n",
       "\n",
       "        [[ 0.,  0.],\n",
       "         [ 0.,  0.]],\n",
       "\n",
       "        [[ 0.,  0.],\n",
       "         [ 0.,  0.]],\n",
       "\n",
       "        [[ 0.,  0.],\n",
       "         [ 0.,  0.]]]])</details></samp><samp><details><summary><b style=\"color: #e55471;\">Tensor</b>(shape=(<b style=\"color: #80d749;\">4</b>, <b style=\"color: #8a5bcf;\">3</b>, <b style=\"color: #828fdd;\">2</b>, <b style=\"color: #828fdd;\">2</b>), inds=[<b style=\"color: #d99e48;\">_60cd02AAHza</b>, <b style=\"color: #37d7d3;\">_60cd02AAHzb</b>, <b style=\"color: #53e08f;\">k7</b>, <b style=\"color: #2a3dd0;\">b7</b>], tags={<b style=\"color: #5582d6;\">I7</b>}),</summary>backend=<b style=\"color: #7fdd73;\">numpy</b>, dtype=<b style=\"color: #75d2c6;\">float64</b>, data=array([[[[ 1.,  0.],\n",
       "         [ 0.,  1.]],\n",
       "\n",
       "        [[ 0.,  0.],\n",
       "         [ 0.,  0.]],\n",
       "\n",
       "        [[ 0.,  0.],\n",
       "         [ 0.,  0.]]],\n",
       "\n",
       "\n",
       "       [[[ 1.,  0.],\n",
       "         [ 0., -1.]],\n",
       "\n",
       "        [[ 0.,  0.],\n",
       "         [ 0.,  0.]],\n",
       "\n",
       "        [[ 0.,  0.],\n",
       "         [ 0.,  0.]]],\n",
       "\n",
       "\n",
       "       [[[ 0.,  0.],\n",
       "         [ 0.,  0.]],\n",
       "\n",
       "        [[ 0.,  1.],\n",
       "         [ 1.,  0.]],\n",
       "\n",
       "        [[ 0.,  0.],\n",
       "         [ 0.,  0.]]],\n",
       "\n",
       "\n",
       "       [[[ 0.,  0.],\n",
       "         [ 0.,  0.]],\n",
       "\n",
       "        [[ 0.,  0.],\n",
       "         [ 0.,  0.]],\n",
       "\n",
       "        [[ 1.,  0.],\n",
       "         [ 0., -1.]]]])</details></samp><samp><details><summary><b style=\"color: #e55471;\">Tensor</b>(shape=(<b style=\"color: #8a5bcf;\">3</b>, <b style=\"color: #828fdd;\">2</b>, <b style=\"color: #828fdd;\">2</b>), inds=[<b style=\"color: #37d7d3;\">_60cd02AAHzb</b>, <b style=\"color: #7bcd9f;\">k8</b>, <b style=\"color: #d23b71;\">b8</b>], tags={<b style=\"color: #8a3dd8;\">I8</b>}),</summary>backend=<b style=\"color: #7fdd73;\">numpy</b>, dtype=<b style=\"color: #75d2c6;\">float64</b>, data=array([[[ 1.,  0.],\n",
       "        [ 0.,  1.]],\n",
       "\n",
       "       [[ 0.,  1.],\n",
       "        [ 1.,  0.]],\n",
       "\n",
       "       [[ 1.,  0.],\n",
       "        [ 0., -1.]]])</details></samp></details></samp>"
      ],
      "text/plain": [
       "MatrixProductOperator(tensors=9, indices=26, L=9, max_bond=7)"
      ]
     },
     "execution_count": 99,
     "metadata": {},
     "output_type": "execute_result"
    }
   ],
   "source": [
    "my_surface_code.get_ham_mpo()"
   ]
  },
  {
   "cell_type": "code",
   "execution_count": 100,
   "metadata": {},
   "outputs": [
    {
     "data": {
      "text/plain": [
       "[MatrixProductOperator(tensors=9, indices=26, L=9, max_bond=2),\n",
       " MatrixProductOperator(tensors=9, indices=26, L=9, max_bond=2)]"
      ]
     },
     "execution_count": 100,
     "metadata": {},
     "output_type": "execute_result"
    }
   ],
   "source": [
    "my_surface_code.get_obs_mpos([(-0.5, (\"z\", 1)), (-0.5, (\"x\", 1))])"
   ]
  },
  {
   "attachments": {},
   "cell_type": "markdown",
   "metadata": {},
   "source": [
    "# Integration with DMRG field scanning"
   ]
  },
  {
   "cell_type": "code",
   "execution_count": 101,
   "metadata": {},
   "outputs": [],
   "source": [
    "TASK_REGISTRY = {}\n",
    "\n",
    "DTYPES_REGISTRY = {\n",
    "    'complex128': np.complex128,\n",
    "    'complex64': np.complex64,\n",
    "    'float64': np.float64,\n",
    "    'float32': np.float32,\n",
    "}\n",
    "\n",
    "def _register_task(get_task_hamiltonian_fn, task_name: str):\n",
    "  \"\"\"Registers `get_task_hamiltonian_fn` in global `TASK_REGISTRY`.\"\"\"\n",
    "  registered_fn = TASK_REGISTRY.get(task_name, None)\n",
    "  if registered_fn is None:\n",
    "    TASK_REGISTRY[task_name] = get_task_hamiltonian_fn\n",
    "  else:\n",
    "    if registered_fn != get_task_hamiltonian_fn:\n",
    "      raise ValueError(f'{task_name} is already registerd {registered_fn}.')\n",
    "\n",
    "# def _register_ham(get_task_hamiltonian_fn: Callable[...], task_name: str):\n",
    "#   \"\"\"Registers `get_task_hamiltonian_fn` in global `TASK_REGISTRY`.\"\"\"\n",
    "#   registered_fn = TASK_REGISTRY.get(task_name, None)\n",
    "#   if registered_fn is None:\n",
    "#     TASK_REGISTRY[task_name] = get_task_hamiltonian_fn\n",
    "#   else:\n",
    "#     if registered_fn != get_task_hamiltonian_fn:\n",
    "#       raise ValueError(f'{task_name} is already registerd {registered_fn}.')\n",
    "    \n",
    "register_task = lambda name: functools.partial(_register_task, task_name=name)\n",
    "\n",
    "@register_task('surface_code')\n",
    "def get_surface_code_mpo(\n",
    "    size_x: int,\n",
    "    size_y: int,\n",
    "    coupling_value: float = 1.0,\n",
    "    onsite_z_field: float = 0., \n",
    "):\n",
    "  \"\"\"Generates surface code MPO for `[size_x, size_y]` domain.\"\"\"\n",
    "  return SurfaceCode(size_x, size_y, coupling_value, onsite_z_field)"
   ]
  },
  {
   "cell_type": "code",
   "execution_count": 105,
   "metadata": {},
   "outputs": [
    {
     "name": "stdout",
     "output_type": "stream",
     "text": [
      "SWEEP-1, direction=R, max_bond=(20/20), cutoff:1e-06\n"
     ]
    },
    {
     "name": "stderr",
     "output_type": "stream",
     "text": [
      "  0%|                                                     | 0/9 [00:00<?, ?it/s]"
     ]
    },
    {
     "name": "stderr",
     "output_type": "stream",
     "text": [
      "100%|#############################################| 9/9 [00:00<00:00, 77.99it/s]"
     ]
    },
    {
     "name": "stdout",
     "output_type": "stream",
     "text": [
      "Energy: (-7.999999999073879+3.885780586188048e-16j) ... not converged.\n",
      "SWEEP-2, direction=R, max_bond=(16/20), cutoff:1e-06\n"
     ]
    },
    {
     "name": "stderr",
     "output_type": "stream",
     "text": [
      "\n",
      "100%|############################################| 9/9 [00:00<00:00, 161.52it/s]"
     ]
    },
    {
     "name": "stdout",
     "output_type": "stream",
     "text": [
      "Energy: (-8.00000000000001+3.3306690738754696e-16j) ... converged!\n"
     ]
    },
    {
     "name": "stderr",
     "output_type": "stream",
     "text": [
      "\n"
     ]
    },
    {
     "name": "stdout",
     "output_type": "stream",
     "text": [
      "SWEEP-1, direction=R, max_bond=(20/20), cutoff:1e-06\n"
     ]
    },
    {
     "name": "stderr",
     "output_type": "stream",
     "text": [
      "100%|############################################| 9/9 [00:00<00:00, 179.33it/s]"
     ]
    },
    {
     "name": "stdout",
     "output_type": "stream",
     "text": [
      "Energy: (-8.01437561376781-6.661338147750939e-16j) ... not converged.\n",
      "SWEEP-2, direction=R, max_bond=(16/20), cutoff:1e-06\n"
     ]
    },
    {
     "name": "stderr",
     "output_type": "stream",
     "text": [
      "\n",
      "100%|############################################| 9/9 [00:00<00:00, 126.35it/s]"
     ]
    },
    {
     "name": "stdout",
     "output_type": "stream",
     "text": [
      "Energy: (-8.014857293499592-2.220446049250313e-16j) ... not converged.\n",
      "SWEEP-3, direction=R, max_bond=(16/20), cutoff:1e-06\n"
     ]
    },
    {
     "name": "stderr",
     "output_type": "stream",
     "text": [
      "\n",
      "100%|############################################| 9/9 [00:00<00:00, 122.71it/s]"
     ]
    },
    {
     "name": "stdout",
     "output_type": "stream",
     "text": [
      "Energy: (-8.015383181116588+0j) ... not converged.\n",
      "SWEEP-4, direction=R, max_bond=(16/20), cutoff:1e-06\n"
     ]
    },
    {
     "name": "stderr",
     "output_type": "stream",
     "text": [
      "\n",
      "100%|############################################| 9/9 [00:00<00:00, 105.19it/s]"
     ]
    },
    {
     "name": "stdout",
     "output_type": "stream",
     "text": [
      "Energy: (-8.015387281590671+6.661338147750939e-16j) ... converged!\n"
     ]
    },
    {
     "name": "stderr",
     "output_type": "stream",
     "text": [
      "\n"
     ]
    },
    {
     "name": "stdout",
     "output_type": "stream",
     "text": [
      "SWEEP-1, direction=R, max_bond=(20/20), cutoff:1e-06\n"
     ]
    },
    {
     "name": "stderr",
     "output_type": "stream",
     "text": [
      "100%|############################################| 9/9 [00:00<00:00, 187.98it/s]"
     ]
    },
    {
     "name": "stdout",
     "output_type": "stream",
     "text": [
      "Energy: (-8.065549658045082+2.220446049250313e-16j) ... not converged.\n",
      "SWEEP-2, direction=R, max_bond=(16/20), cutoff:1e-06\n"
     ]
    },
    {
     "name": "stderr",
     "output_type": "stream",
     "text": [
      "\n",
      "100%|#############################################| 9/9 [00:00<00:00, 63.70it/s]"
     ]
    },
    {
     "name": "stdout",
     "output_type": "stream",
     "text": [
      "Energy: (-8.065549912127167+0j) ... converged!\n"
     ]
    },
    {
     "name": "stderr",
     "output_type": "stream",
     "text": [
      "\n"
     ]
    },
    {
     "name": "stdout",
     "output_type": "stream",
     "text": [
      "SWEEP-1, direction=R, max_bond=(20/20), cutoff:1e-06\n"
     ]
    },
    {
     "name": "stderr",
     "output_type": "stream",
     "text": [
      "100%|############################################| 9/9 [00:00<00:00, 180.71it/s]"
     ]
    },
    {
     "name": "stdout",
     "output_type": "stream",
     "text": [
      "Energy: (-8.155769622342392+0j) ... not converged.\n",
      "SWEEP-2, direction=R, max_bond=(16/20), cutoff:1e-06\n"
     ]
    },
    {
     "name": "stderr",
     "output_type": "stream",
     "text": [
      "\n",
      "100%|############################################| 9/9 [00:00<00:00, 151.33it/s]"
     ]
    },
    {
     "name": "stdout",
     "output_type": "stream",
     "text": [
      "Energy: (-8.15577106156345+2.220446049250313e-16j) ... converged!\n"
     ]
    },
    {
     "name": "stderr",
     "output_type": "stream",
     "text": [
      "\n"
     ]
    },
    {
     "name": "stdout",
     "output_type": "stream",
     "text": [
      "SWEEP-1, direction=R, max_bond=(20/20), cutoff:1e-06\n"
     ]
    },
    {
     "name": "stderr",
     "output_type": "stream",
     "text": [
      "100%|############################################| 9/9 [00:00<00:00, 191.80it/s]"
     ]
    },
    {
     "name": "stdout",
     "output_type": "stream",
     "text": [
      "Energy: (-8.289234258884997+0j) ... not converged.\n",
      "SWEEP-2, direction=R, max_bond=(16/20), cutoff:1e-06\n"
     ]
    },
    {
     "name": "stderr",
     "output_type": "stream",
     "text": [
      "\n",
      "100%|############################################| 9/9 [00:00<00:00, 145.50it/s]"
     ]
    },
    {
     "name": "stdout",
     "output_type": "stream",
     "text": [
      "Energy: (-8.289234627393654+2.7755575615628914e-16j) ... converged!\n"
     ]
    },
    {
     "name": "stderr",
     "output_type": "stream",
     "text": [
      "\n"
     ]
    },
    {
     "name": "stdout",
     "output_type": "stream",
     "text": [
      "SWEEP-1, direction=R, max_bond=(20/20), cutoff:1e-06\n"
     ]
    },
    {
     "name": "stderr",
     "output_type": "stream",
     "text": [
      "100%|############################################| 9/9 [00:00<00:00, 184.80it/s]"
     ]
    },
    {
     "name": "stdout",
     "output_type": "stream",
     "text": [
      "Energy: (-8.466046318923471+0j) ... not converged.\n",
      "SWEEP-2, direction=R, max_bond=(16/20), cutoff:1e-06\n"
     ]
    },
    {
     "name": "stderr",
     "output_type": "stream",
     "text": [
      "\n",
      "100%|############################################| 9/9 [00:00<00:00, 172.14it/s]"
     ]
    },
    {
     "name": "stdout",
     "output_type": "stream",
     "text": [
      "Energy: (-8.466046540762603+3.3306690738754696e-16j) ... converged!\n"
     ]
    },
    {
     "name": "stderr",
     "output_type": "stream",
     "text": [
      "\n"
     ]
    },
    {
     "name": "stdout",
     "output_type": "stream",
     "text": [
      "SWEEP-1, direction=R, max_bond=(20/20), cutoff:1e-06\n"
     ]
    },
    {
     "name": "stderr",
     "output_type": "stream",
     "text": [
      "100%|############################################| 9/9 [00:00<00:00, 183.50it/s]"
     ]
    },
    {
     "name": "stdout",
     "output_type": "stream",
     "text": [
      "Energy: (-8.68333976986973-2.220446049250313e-16j) ... not converged.\n",
      "SWEEP-2, direction=R, max_bond=(16/20), cutoff:1e-06\n"
     ]
    },
    {
     "name": "stderr",
     "output_type": "stream",
     "text": [
      "\n",
      "100%|############################################| 9/9 [00:00<00:00, 108.58it/s]"
     ]
    },
    {
     "name": "stdout",
     "output_type": "stream",
     "text": [
      "Energy: (-8.683340618066019+7.216449660063518e-16j) ... converged!\n"
     ]
    },
    {
     "name": "stderr",
     "output_type": "stream",
     "text": [
      "\n"
     ]
    },
    {
     "name": "stdout",
     "output_type": "stream",
     "text": [
      "SWEEP-1, direction=R, max_bond=(20/20), cutoff:1e-06\n"
     ]
    },
    {
     "name": "stderr",
     "output_type": "stream",
     "text": [
      "100%|############################################| 9/9 [00:00<00:00, 150.16it/s]"
     ]
    },
    {
     "name": "stdout",
     "output_type": "stream",
     "text": [
      "Energy: (-8.936336020624234+3.3306690738754696e-16j) ... not converged.\n",
      "SWEEP-2, direction=R, max_bond=(16/20), cutoff:1e-06\n"
     ]
    },
    {
     "name": "stderr",
     "output_type": "stream",
     "text": [
      "\n",
      "100%|############################################| 9/9 [00:00<00:00, 148.08it/s]"
     ]
    },
    {
     "name": "stdout",
     "output_type": "stream",
     "text": [
      "Energy: (-8.93633618341758-3.885780586188048e-16j) ... converged!\n"
     ]
    },
    {
     "name": "stderr",
     "output_type": "stream",
     "text": [
      "\n"
     ]
    },
    {
     "name": "stdout",
     "output_type": "stream",
     "text": [
      "SWEEP-1, direction=R, max_bond=(20/20), cutoff:1e-06\n"
     ]
    },
    {
     "name": "stderr",
     "output_type": "stream",
     "text": [
      "100%|############################################| 9/9 [00:00<00:00, 159.24it/s]"
     ]
    },
    {
     "name": "stdout",
     "output_type": "stream",
     "text": [
      "Energy: (-9.219604342688907+5.551115123125783e-17j) ... not converged.\n",
      "SWEEP-2, direction=R, max_bond=(16/20), cutoff:1e-06\n"
     ]
    },
    {
     "name": "stderr",
     "output_type": "stream",
     "text": [
      "\n",
      "100%|############################################| 9/9 [00:00<00:00, 155.78it/s]"
     ]
    },
    {
     "name": "stdout",
     "output_type": "stream",
     "text": [
      "Energy: (-9.219604592540273-1.1102230246251565e-16j) ... converged!\n"
     ]
    },
    {
     "name": "stderr",
     "output_type": "stream",
     "text": [
      "\n"
     ]
    },
    {
     "name": "stdout",
     "output_type": "stream",
     "text": [
      "SWEEP-1, direction=R, max_bond=(20/20), cutoff:1e-06\n"
     ]
    },
    {
     "name": "stderr",
     "output_type": "stream",
     "text": [
      "100%|############################################| 9/9 [00:00<00:00, 185.62it/s]"
     ]
    },
    {
     "name": "stdout",
     "output_type": "stream",
     "text": [
      "Energy: (-9.527968286691616+0j) ... not converged.\n",
      "SWEEP-2, direction=R, max_bond=(16/20), cutoff:1e-06\n"
     ]
    },
    {
     "name": "stderr",
     "output_type": "stream",
     "text": [
      "\n",
      "100%|#############################################| 9/9 [00:00<00:00, 68.62it/s]"
     ]
    },
    {
     "name": "stdout",
     "output_type": "stream",
     "text": [
      "Energy: (-9.527968446765101-1.6653345369377348e-16j) ... converged!\n"
     ]
    },
    {
     "name": "stderr",
     "output_type": "stream",
     "text": [
      "\n"
     ]
    },
    {
     "name": "stdout",
     "output_type": "stream",
     "text": [
      "SWEEP-1, direction=R, max_bond=(20/20), cutoff:1e-06\n"
     ]
    },
    {
     "name": "stderr",
     "output_type": "stream",
     "text": [
      "100%|############################################| 9/9 [00:00<00:00, 177.60it/s]"
     ]
    },
    {
     "name": "stdout",
     "output_type": "stream",
     "text": [
      "Energy: (-9.85692633796015+4.996003610813204e-16j) ... not converged.\n",
      "SWEEP-2, direction=R, max_bond=(16/20), cutoff:1e-06\n"
     ]
    },
    {
     "name": "stderr",
     "output_type": "stream",
     "text": [
      "\n",
      "100%|############################################| 9/9 [00:00<00:00, 149.24it/s]"
     ]
    },
    {
     "name": "stdout",
     "output_type": "stream",
     "text": [
      "Energy: (-9.85692643648213-9.072603779358701e-16j) ... converged!\n"
     ]
    },
    {
     "name": "stderr",
     "output_type": "stream",
     "text": [
      "\n"
     ]
    },
    {
     "name": "stdout",
     "output_type": "stream",
     "text": [
      "SWEEP-1, direction=R, max_bond=(20/20), cutoff:1e-06\n"
     ]
    },
    {
     "name": "stderr",
     "output_type": "stream",
     "text": [
      "100%|############################################| 9/9 [00:00<00:00, 116.27it/s]"
     ]
    },
    {
     "name": "stdout",
     "output_type": "stream",
     "text": [
      "Energy: (-10.20275174945955+3.9898639947466563e-17j) ... not converged.\n",
      "SWEEP-2, direction=R, max_bond=(16/20), cutoff:1e-06\n"
     ]
    },
    {
     "name": "stderr",
     "output_type": "stream",
     "text": [
      "\n",
      "100%|############################################| 9/9 [00:00<00:00, 170.96it/s]"
     ]
    },
    {
     "name": "stdout",
     "output_type": "stream",
     "text": [
      "Energy: (-10.202752022768593+4.371503159461554e-16j) ... converged!\n"
     ]
    },
    {
     "name": "stderr",
     "output_type": "stream",
     "text": [
      "\n"
     ]
    },
    {
     "name": "stdout",
     "output_type": "stream",
     "text": [
      "SWEEP-1, direction=R, max_bond=(20/20), cutoff:1e-06\n"
     ]
    },
    {
     "name": "stderr",
     "output_type": "stream",
     "text": [
      "100%|############################################| 9/9 [00:00<00:00, 175.23it/s]"
     ]
    },
    {
     "name": "stdout",
     "output_type": "stream",
     "text": [
      "Energy: (-10.562433103550564+6.938893903907228e-16j) ... not converged.\n",
      "SWEEP-2, direction=R, max_bond=(16/20), cutoff:1e-06\n"
     ]
    },
    {
     "name": "stderr",
     "output_type": "stream",
     "text": [
      "\n",
      "100%|############################################| 9/9 [00:00<00:00, 168.27it/s]"
     ]
    },
    {
     "name": "stdout",
     "output_type": "stream",
     "text": [
      "Energy: (-10.562433291687812-8.604228440844963e-16j) ... converged!\n"
     ]
    },
    {
     "name": "stderr",
     "output_type": "stream",
     "text": [
      "\n"
     ]
    },
    {
     "name": "stdout",
     "output_type": "stream",
     "text": [
      "SWEEP-1, direction=R, max_bond=(20/20), cutoff:1e-06\n"
     ]
    },
    {
     "name": "stderr",
     "output_type": "stream",
     "text": [
      "100%|############################################| 9/9 [00:00<00:00, 123.60it/s]"
     ]
    },
    {
     "name": "stdout",
     "output_type": "stream",
     "text": [
      "Energy: (-10.93355910246497+1.1102230246251565e-16j) ... not converged.\n",
      "SWEEP-2, direction=R, max_bond=(16/20), cutoff:1e-06\n"
     ]
    },
    {
     "name": "stderr",
     "output_type": "stream",
     "text": [
      "\n",
      "100%|############################################| 9/9 [00:00<00:00, 154.30it/s]"
     ]
    },
    {
     "name": "stdout",
     "output_type": "stream",
     "text": [
      "Energy: (-10.933559375800838+6.938893903907228e-16j) ... converged!\n"
     ]
    },
    {
     "name": "stderr",
     "output_type": "stream",
     "text": [
      "\n"
     ]
    },
    {
     "name": "stdout",
     "output_type": "stream",
     "text": [
      "SWEEP-1, direction=R, max_bond=(20/20), cutoff:1e-06\n"
     ]
    },
    {
     "name": "stderr",
     "output_type": "stream",
     "text": [
      "100%|############################################| 9/9 [00:00<00:00, 182.57it/s]"
     ]
    },
    {
     "name": "stdout",
     "output_type": "stream",
     "text": [
      "Energy: (-11.314203359836231+2.7755575615628914e-17j) ... not converged.\n",
      "SWEEP-2, direction=R, max_bond=(16/20), cutoff:1e-06\n"
     ]
    },
    {
     "name": "stderr",
     "output_type": "stream",
     "text": [
      "\n",
      "100%|############################################| 9/9 [00:00<00:00, 160.97it/s]"
     ]
    },
    {
     "name": "stdout",
     "output_type": "stream",
     "text": [
      "Energy: (-11.314203526861228+1.942890293094024e-16j) ... converged!\n"
     ]
    },
    {
     "name": "stderr",
     "output_type": "stream",
     "text": [
      "\n"
     ]
    },
    {
     "name": "stdout",
     "output_type": "stream",
     "text": [
      "SWEEP-1, direction=R, max_bond=(20/20), cutoff:1e-06\n"
     ]
    },
    {
     "name": "stderr",
     "output_type": "stream",
     "text": [
      "100%|############################################| 9/9 [00:00<00:00, 188.80it/s]"
     ]
    },
    {
     "name": "stdout",
     "output_type": "stream",
     "text": [
      "Energy: (-11.70282095773941-6.38378239159465e-16j) ... not converged.\n",
      "SWEEP-2, direction=R, max_bond=(16/20), cutoff:1e-06\n"
     ]
    },
    {
     "name": "stderr",
     "output_type": "stream",
     "text": [
      "\n",
      "100%|############################################| 9/9 [00:00<00:00, 175.21it/s]"
     ]
    },
    {
     "name": "stdout",
     "output_type": "stream",
     "text": [
      "Energy: (-11.70282136987561-4.484260185400046e-16j) ... converged!\n"
     ]
    },
    {
     "name": "stderr",
     "output_type": "stream",
     "text": [
      "\n"
     ]
    },
    {
     "name": "stdout",
     "output_type": "stream",
     "text": [
      "SWEEP-1, direction=R, max_bond=(20/20), cutoff:1e-06\n"
     ]
    },
    {
     "name": "stderr",
     "output_type": "stream",
     "text": [
      "100%|############################################| 9/9 [00:00<00:00, 175.60it/s]"
     ]
    },
    {
     "name": "stdout",
     "output_type": "stream",
     "text": [
      "Energy: (-12.098168368333733-1.0755285551056204e-15j) ... not converged.\n",
      "SWEEP-2, direction=R, max_bond=(16/20), cutoff:1e-06\n"
     ]
    },
    {
     "name": "stderr",
     "output_type": "stream",
     "text": [
      "\n",
      "100%|#############################################| 9/9 [00:00<00:00, 64.77it/s]"
     ]
    },
    {
     "name": "stdout",
     "output_type": "stream",
     "text": [
      "Energy: (-12.098168381550092-1.3183898417423734e-16j) ... converged!\n"
     ]
    },
    {
     "name": "stderr",
     "output_type": "stream",
     "text": [
      "\n"
     ]
    },
    {
     "name": "stdout",
     "output_type": "stream",
     "text": [
      "SWEEP-1, direction=R, max_bond=(20/20), cutoff:1e-06\n"
     ]
    },
    {
     "name": "stderr",
     "output_type": "stream",
     "text": [
      "100%|############################################| 9/9 [00:00<00:00, 183.99it/s]"
     ]
    },
    {
     "name": "stdout",
     "output_type": "stream",
     "text": [
      "Energy: (-12.49923506906877-2.7755575615628914e-17j) ... not converged.\n",
      "SWEEP-2, direction=R, max_bond=(16/20), cutoff:1e-06\n"
     ]
    },
    {
     "name": "stderr",
     "output_type": "stream",
     "text": [
      "\n",
      "100%|############################################| 9/9 [00:00<00:00, 142.49it/s]"
     ]
    },
    {
     "name": "stdout",
     "output_type": "stream",
     "text": [
      "Energy: (-12.499235078971838+3.3306690738754696e-16j) ... converged!\n"
     ]
    },
    {
     "name": "stderr",
     "output_type": "stream",
     "text": [
      "\n"
     ]
    },
    {
     "name": "stdout",
     "output_type": "stream",
     "text": [
      "SWEEP-1, direction=R, max_bond=(20/20), cutoff:1e-06\n"
     ]
    },
    {
     "name": "stderr",
     "output_type": "stream",
     "text": [
      "100%|############################################| 9/9 [00:00<00:00, 191.12it/s]"
     ]
    },
    {
     "name": "stdout",
     "output_type": "stream",
     "text": [
      "Energy: (-12.9051967994046+1.27675647831893e-15j) ... not converged.\n",
      "SWEEP-2, direction=R, max_bond=(16/20), cutoff:1e-06\n"
     ]
    },
    {
     "name": "stderr",
     "output_type": "stream",
     "text": [
      "\n",
      "100%|############################################| 9/9 [00:00<00:00, 147.82it/s]"
     ]
    },
    {
     "name": "stdout",
     "output_type": "stream",
     "text": [
      "Energy: (-12.905196823640136-1.942890293094024e-15j) ... converged!\n"
     ]
    },
    {
     "name": "stderr",
     "output_type": "stream",
     "text": [
      "\n"
     ]
    },
    {
     "name": "stdout",
     "output_type": "stream",
     "text": [
      "SWEEP-1, direction=R, max_bond=(20/20), cutoff:1e-06\n"
     ]
    },
    {
     "name": "stderr",
     "output_type": "stream",
     "text": [
      "100%|############################################| 9/9 [00:00<00:00, 194.59it/s]"
     ]
    },
    {
     "name": "stdout",
     "output_type": "stream",
     "text": [
      "Energy: (-13.315375104960284+4.996003610813204e-16j) ... not converged.\n",
      "SWEEP-2, direction=R, max_bond=(16/20), cutoff:1e-06\n"
     ]
    },
    {
     "name": "stderr",
     "output_type": "stream",
     "text": [
      "\n",
      "100%|############################################| 9/9 [00:00<00:00, 164.18it/s]"
     ]
    },
    {
     "name": "stdout",
     "output_type": "stream",
     "text": [
      "Energy: (-13.315375117560645+1.3010426069826053e-15j) ... converged!\n"
     ]
    },
    {
     "name": "stderr",
     "output_type": "stream",
     "text": [
      "\n"
     ]
    }
   ],
   "source": [
    "def surface_code_config(hz):\n",
    "  config = config_dict.ConfigDict()\n",
    "  # Task configuration.\n",
    "  config.dtype = 'complex128'\n",
    "  config.task = config_dict.ConfigDict()\n",
    "  config.task.name = 'surface_code'\n",
    "  config.task.kwargs = {'size_x': 3, 'size_y': 3, 'onsite_z_field':hz}\n",
    "  # DMRG configuration.\n",
    "  config.dmrg = config_dict.ConfigDict()\n",
    "  config.dmrg.bond_dims = 20\n",
    "  config.dmrg.solve_kwargs = {'max_sweeps': 40, 'cutoffs': 1e-6, 'verbosity': 1}\n",
    "  # Sampler configuration.\n",
    "  config.sampling = config_dict.ConfigDict()\n",
    "  config.sampling.sampling_method = 'xz_basis_sampler'\n",
    "  config.sampling.init_seed = 42\n",
    "  config.sampling.num_samples = 50_000\n",
    "  return config\n",
    "\n",
    "stabilizers_field = []\n",
    "onsite_z_field = []\n",
    "mps_field = []\n",
    "hz_fields = np.arange(0, 1., 0.05)\n",
    "ED_energies = []\n",
    "dmrg_energies = []\n",
    "for hz in hz_fields:\n",
    "  config = surface_code_config(hz)\n",
    "  dtype = DTYPES_REGISTRY[config.dtype]\n",
    "  task_system = TASK_REGISTRY[config.task.name](**config.task.kwargs)\n",
    "  task_mpo = task_system.get_ham_mpo()\n",
    "  qtn.contraction.set_tensor_linop_backend('numpy')\n",
    "  qtn.contraction.set_contract_backend('numpy')\n",
    "  mps = qtn.MPS_rand_state(task_mpo.L, config.dmrg.bond_dims, dtype=dtype)\n",
    "  dmrg = qtn.DMRG1(task_mpo, bond_dims=config.dmrg.bond_dims, p0=mps)\n",
    "  dmrg.solve(**config.dmrg.solve_kwargs)\n",
    "  mps = dmrg.state.copy()\n",
    "  mps = mps.canonize(0)  \n",
    "  mps_field.append(mps)\n",
    "  dmrg_energies.append(dmrg.energy)\n",
    "\n",
    "  # ham_ed = qmb.experimental.operatorbuilder.get_mat(task_mpo)\n",
    "  ham_ed = task_mpo.to_dense()\n",
    "  eigval= sp.linalg.eigh(ham_ed, eigvals_only=True, \n",
    "                             subset_by_index=0)\n",
    "  ED_energies.append(eigval[0])\n",
    "\n",
    "\n",
    "  ## surface code specific testing.\n",
    "  # Compute expectation values of the stabilizers.\n",
    "  stabilizers = task_system.get_obs_mpos()\n",
    "  stabilizers_expectation = [(mps.H @ (s.apply(mps))) for s in stabilizers]\n",
    "\n",
    "  # compute the expectation value of onsite operators\n",
    "  onsite_z_terms = [(-1., (\"z\", i)) for i in range(task_system.n_sites)]\n",
    "  onsite_z_mpos = task_system.get_obs_mpos(onsite_z_terms)\n",
    "  onsite_z_expectation = [(mps.H @ (s.apply(mps))) for s in onsite_z_mpos]\n",
    "  stabilizers_field.append(stabilizers_expectation)\n",
    "  onsite_z_field.append(onsite_z_expectation)\n",
    "\n",
    "# return stabilizers_expectation, onsite_z_expectation\n"
   ]
  },
  {
   "cell_type": "code",
   "execution_count": 106,
   "metadata": {},
   "outputs": [],
   "source": [
    "overlaps = []\n",
    "for i in range(len(hz_fields)-1):\n",
    "  overlap = np.abs((mps_field[i+1].H @ mps_field[i]))**2\n",
    "  overlaps.append(overlap)\n"
   ]
  },
  {
   "cell_type": "code",
   "execution_count": 107,
   "metadata": {},
   "outputs": [
    {
     "data": {
      "text/plain": [
       "<matplotlib.legend.Legend at 0x131b43610>"
      ]
     },
     "execution_count": 107,
     "metadata": {},
     "output_type": "execute_result"
    },
    {
     "data": {
      "image/png": "[encoded data removed]",
      "text/plain": [
       "<Figure size 640x480 with 1 Axes>"
      ]
     },
     "metadata": {},
     "output_type": "display_data"
    }
   ],
   "source": [
    "fig, ax = plt.subplots()\n",
    "# ax.scatter(hz_fields, [onsite_z_field[i][0] for i in range(len(hz_fields))], label=r'$\\sigma_z$')\n",
    "ax.scatter(hz_fields, [np.real(stabilizers_field[i][0]) for i in range(len(hz_fields))], label=r'$S_x$')\n",
    "ax.scatter(hz_fields[1:-1], overlaps[1:], label=r'F')\n",
    "# ax.set_ylim(-1, 1)\n",
    "ax.set_xlabel(r'$h_z$')\n",
    "ax.set_ylabel(r'$\\langle O \\rangle$')\n",
    "plt.legend()"
   ]
  },
  {
   "attachments": {},
   "cell_type": "markdown",
   "metadata": {},
   "source": [
    "# Regularization function"
   ]
  },
  {
   "cell_type": "code",
   "execution_count": null,
   "metadata": {},
   "outputs": [],
   "source": [
    "#@title reguarlization function for surface code\n",
    "\n",
    "\n",
    "def regularization_fn_surface_code(mps_model_arrays, train_ds, all_terms, hilbert_space):\n",
    "  \"\"\"Compute regularization contribution to the loss function.\"\"\"\n",
    "  mps_data_z = get_data_estimator_mps(train_ds, 'z')\n",
    "  mps_data_x = get_data_estimator_mps(train_ds, 'x')\n",
    "  est_expectations = estimate_exp_surface_code(\n",
    "    all_terms, mps_data_z, mps_data_x, hilbert_space)\n",
    "  mpos = [build_sparse_op([term], hilbert_space) for term in all_terms]\n",
    "  mps_model = qmbt.MatrixProductState(arrays=mps_model_arrays)\n",
    "  model_expectations = jnp.array([\n",
    "    ((mps_model.H | mpo.apply(mps_model)) ^ ...)\n",
    "    for mpo in mpos\n",
    "  ])\n",
    "  return jnp.sum(jnp.abs(est_expectations - model_expectations)**2)"
   ]
  }
 ],
 "metadata": {
  "kernelspec": {
   "display_name": "venv",
   "language": "python",
   "name": "python3"
  },
  "language_info": {
   "codemirror_mode": {
    "name": "ipython",
    "version": 3
   },
   "file_extension": ".py",
   "mimetype": "text/x-python",
   "name": "python",
   "nbconvert_exporter": "python",
   "pygments_lexer": "ipython3",
   "version": "3.10.11"
  },
  "orig_nbformat": 4
 },
 "nbformat": 4,
 "nbformat_minor": 2
}
